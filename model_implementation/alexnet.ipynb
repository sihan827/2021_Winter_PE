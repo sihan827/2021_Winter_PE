{
  "nbformat": 4,
  "nbformat_minor": 0,
  "metadata": {
    "colab": {
      "name": "alexnet.ipynb",
      "provenance": [],
      "authorship_tag": "ABX9TyMJKEiYa5Q0hHUMq+FP1Ruq",
      "include_colab_link": true
    },
    "kernelspec": {
      "name": "python3",
      "display_name": "Python 3"
    },
    "accelerator": "GPU"
  },
  "cells": [
    {
      "cell_type": "markdown",
      "metadata": {
        "id": "view-in-github",
        "colab_type": "text"
      },
      "source": [
        "<a href=\"https://colab.research.google.com/github/sihan827/2021_Winter_PE/blob/main/model_implementation/alexnet.ipynb\" target=\"_parent\"><img src=\"https://colab.research.google.com/assets/colab-badge.svg\" alt=\"Open In Colab\"/></a>"
      ]
    },
    {
      "cell_type": "code",
      "metadata": {
        "colab": {
          "base_uri": "https://localhost:8080/"
        },
        "id": "Z0P8MFHhdP2m",
        "outputId": "d4af12c3-ba95-4903-e0d5-796039bd176b"
      },
      "source": [
        "# 구글 드라이브 연동\r\n",
        "from google.colab import drive\r\n",
        "drive.mount('/content/drive')"
      ],
      "execution_count": 4,
      "outputs": [
        {
          "output_type": "stream",
          "text": [
            "Mounted at /content/drive\n"
          ],
          "name": "stdout"
        }
      ]
    },
    {
      "cell_type": "code",
      "metadata": {
        "id": "M4CddZJCmtqv"
      },
      "source": [
        "# 전역 변수들\r\n",
        "# 에폭, 배치 크기\r\n",
        "EPOCHS = 20\r\n",
        "BATCH_SIZE = 128"
      ],
      "execution_count": 5,
      "outputs": []
    },
    {
      "cell_type": "code",
      "metadata": {
        "id": "YZblXLBsdcyS"
      },
      "source": [
        "# CIFAR-10 데이터 관련 라이브러리\r\n",
        "from torchvision import utils, transforms, datasets\r\n",
        "from torch.utils import data\r\n",
        "import torch"
      ],
      "execution_count": 6,
      "outputs": []
    },
    {
      "cell_type": "code",
      "metadata": {
        "colab": {
          "base_uri": "https://localhost:8080/"
        },
        "id": "DUE0zbbGk-Hq",
        "outputId": "c59776de-d794-4f70-f7dd-062a215c4e99"
      },
      "source": [
        "# 이미지 전처리 과정\r\n",
        "# 크기 256으로 맞춘 후 중앙에서 (224, 224) 크기로 자름\r\n",
        "# 수평으로 뒤집기 시행, 평균과 표준편차로 정규화\r\n",
        "preprocess = transforms.Compose([\r\n",
        "      transforms.Resize(256),\r\n",
        "      transforms.CenterCrop(224),\r\n",
        "      transforms.RandomHorizontalFlip(),\r\n",
        "      transforms.ToTensor(),\r\n",
        "      transforms.Normalize(mean=[0.485, 0.456, 0.406], std=[0.229, 0.224, 0.225])\r\n",
        "])\r\n",
        "\r\n",
        "# 훈련 데이터 및 테스트 데이터 셋\r\n",
        "train_set = datasets.CIFAR10(\r\n",
        "    '/content/drive/My Drive/.data',\r\n",
        "    train=True,\r\n",
        "    download=True,\r\n",
        "    transform=preprocess\r\n",
        ")\r\n",
        "test_set = datasets.CIFAR10(\r\n",
        "    '/content/drive/My Drive/.data',\r\n",
        "    train=False,\r\n",
        "    download=True,\r\n",
        "    transform=preprocess\r\n",
        ")\r\n",
        "\r\n",
        "# 훈련 데이터 및 테스트 데이터 로더\r\n",
        "train_loader = data.DataLoader(\r\n",
        "    train_set,\r\n",
        "    batch_size=BATCH_SIZE,\r\n",
        "    shuffle=True,\r\n",
        "    num_workers=2\r\n",
        ")\r\n",
        "test_loader = data.DataLoader(\r\n",
        "    test_set,\r\n",
        "    batch_size=BATCH_SIZE,\r\n",
        "    shuffle=False,\r\n",
        "    num_workers=2\r\n",
        ")"
      ],
      "execution_count": 7,
      "outputs": [
        {
          "output_type": "stream",
          "text": [
            "Files already downloaded and verified\n",
            "Files already downloaded and verified\n"
          ],
          "name": "stdout"
        }
      ]
    },
    {
      "cell_type": "code",
      "metadata": {
        "colab": {
          "base_uri": "https://localhost:8080/"
        },
        "id": "cO6BDxZnOzsE",
        "outputId": "2a9be6ca-5b9e-4a20-82a0-c2c0baf0435c"
      },
      "source": [
        "# 데이터 셋 크기 체크\r\n",
        "print(len(train_set))\r\n",
        "print(len(test_set))"
      ],
      "execution_count": 8,
      "outputs": [
        {
          "output_type": "stream",
          "text": [
            "50000\n",
            "10000\n"
          ],
          "name": "stdout"
        }
      ]
    },
    {
      "cell_type": "code",
      "metadata": {
        "colab": {
          "base_uri": "https://localhost:8080/",
          "height": 286
        },
        "id": "KTuk0R1cDEf7",
        "outputId": "fa977c54-38f1-4dbe-dbb6-dd86224317ff"
      },
      "source": [
        "# 데이터가 잘 다운로드되었는지 배치 하나를 불러와서 matplotlib으로 출력\r\n",
        "import matplotlib.pyplot as plt\r\n",
        "import numpy as np\r\n",
        "diatater = iter(test_loader)\r\n",
        "batch_img, labels = diatater.next()\r\n",
        "img_grid = utils.make_grid(batch_img, padding=0)\r\n",
        "npimg_grid = img_grid.numpy()\r\n",
        "plt.imshow(np.transpose(npimg_grid, (1, 2, 0)))\r\n",
        "plt.show()"
      ],
      "execution_count": 9,
      "outputs": [
        {
          "output_type": "stream",
          "text": [
            "Clipping input data to the valid range for imshow with RGB data ([0..1] for floats or [0..255] for integers).\n"
          ],
          "name": "stderr"
        },
        {
          "output_type": "display_data",
          "data": {
            "image/png": "[encoded data removed]",
            "text/plain": [
              "<Figure size 432x288 with 1 Axes>"
            ]
          },
          "metadata": {
            "tags": [],
            "needs_background": "light"
          }
        }
      ]
    },
    {
      "cell_type": "code",
      "metadata": {
        "id": "p122uIC6IHqS"
      },
      "source": [
        "# torch 신경망 관련 라이브러리\r\n",
        "import torch.nn as nn\r\n",
        "import torch.nn.functional as F"
      ],
      "execution_count": 10,
      "outputs": []
    },
    {
      "cell_type": "code",
      "metadata": {
        "id": "GN61AIubEBX9"
      },
      "source": [
        "# AlexNet 모델로 구현\r\n",
        "class AlexNet(nn.Module):\r\n",
        "  def __init__(self, labels=10):\r\n",
        "    super(AlexNet, self).__init__()\r\n",
        "    # 합성곱 층 5개\r\n",
        "    self.conv1 = nn.Conv2d(3, 96, kernel_size=11, stride=4, padding=2)\r\n",
        "    self.conv2 = nn.Conv2d(96, 256, kernel_size=5, padding=2)\r\n",
        "    self.conv3 = nn.Conv2d(256, 384, kernel_size=3, padding=1)\r\n",
        "    self.conv4 = nn.Conv2d(384, 384, kernel_size=3, padding=1)\r\n",
        "    self.conv5 = nn.Conv2d(384, 256, kernel_size=3, padding=1)\r\n",
        "    # 완전연결 층 3개\r\n",
        "    self.fc1 = nn.Linear(9216, 4096)\r\n",
        "    self.fc2 = nn.Linear(4096, 4096)\r\n",
        "    self.fc3 = nn.Linear(4096, labels)\r\n",
        "\r\n",
        "    \r\n",
        "  def forward(self, x):\r\n",
        "    # conv1->relu->maxpool\r\n",
        "    output = F.relu(self.conv1(x))\r\n",
        "    output = F.max_pool2d(output, 3, stride=2)\r\n",
        "    # conv2->relu->maxpool\r\n",
        "    output = F.relu(self.conv2(output))\r\n",
        "    output = F.max_pool2d(output, 3, stride=2)\r\n",
        "    # conv3->relu\r\n",
        "    output = F.relu(self.conv3(output))\r\n",
        "    # conv4->relu\r\n",
        "    output = F.relu(self.conv4(output))\r\n",
        "    # conv5->relu->maxpool\r\n",
        "    output = F.relu(self.conv5(output))\r\n",
        "    output = F.max_pool2d(output, 3, stride=2)\r\n",
        "    # 텐서 펴기\r\n",
        "    output = output.view(-1, 9216)\r\n",
        "    # fc1 이전 dropout\r\n",
        "    output = F.dropout(output)\r\n",
        "    # fc1->relu\r\n",
        "    output = F.relu(self.fc1(output))\r\n",
        "    # fc2 이전 dropout\r\n",
        "    output = F.dropout(output)\r\n",
        "    # fc2->relu\r\n",
        "    output = F.relu(self.fc2(output))\r\n",
        "    # fc3\r\n",
        "    # output = F.softmax(self.fc3(output), dim=1)\r\n",
        "    output = self.fc3(output)\r\n",
        "    return output"
      ],
      "execution_count": 11,
      "outputs": []
    },
    {
      "cell_type": "code",
      "metadata": {
        "colab": {
          "base_uri": "https://localhost:8080/"
        },
        "id": "reY2TXmgML9b",
        "outputId": "359fea02-2288-4bff-e4fa-d112cc7597e3"
      },
      "source": [
        "# cuda 설정\r\n",
        "USE_CUDA = torch.cuda.is_available()\r\n",
        "DEVICE = torch.device('cuda' if USE_CUDA else 'cpu')\r\n",
        "print(DEVICE)"
      ],
      "execution_count": 12,
      "outputs": [
        {
          "output_type": "stream",
          "text": [
            "cuda\n"
          ],
          "name": "stdout"
        }
      ]
    },
    {
      "cell_type": "code",
      "metadata": {
        "id": "PJAGXjQdMzAK"
      },
      "source": [
        "# 훈련 과정 함수 정의\r\n",
        "def train(model, train_loader, optimizer, epochs):\r\n",
        "  model.train()\r\n",
        "  running_loss = 0\r\n",
        "  for epoch in range(epochs):\r\n",
        "    for idx, (data, target) in enumerate(train_loader, 0):\r\n",
        "      data, target = data.to(DEVICE), target.to(DEVICE)\r\n",
        "\r\n",
        "      optimizer.zero_grad()\r\n",
        "      output = model(data)\r\n",
        "      loss = F.cross_entropy(output, target)\r\n",
        "      loss.backward()\r\n",
        "      optimizer.step()\r\n",
        "      if idx % 60 == 0:\r\n",
        "        print('[%d %5d] loss : %f' % (epoch, idx, loss.item()))\r\n",
        "  print('done!')"
      ],
      "execution_count": 13,
      "outputs": []
    },
    {
      "cell_type": "code",
      "metadata": {
        "id": "-MzW22ZmPu0k"
      },
      "source": [
        "# 테스트 함수 정의\r\n",
        "def test(model, test_loader):\r\n",
        "  model.eval()\r\n",
        "  correct = 0\r\n",
        "  test_loss = 0\r\n",
        "  with torch.no_grad():\r\n",
        "    for data, target in test_loader:\r\n",
        "      data, target = data.to(DEVICE), target.to(DEVICE)\r\n",
        "      output = model(data)\r\n",
        "      test_loss += F.cross_entropy(output, target, reduction='sum').item()\r\n",
        "      pred = torch.max(output, 1)[1]\r\n",
        "      correct += (pred == target).sum().item()\r\n",
        "    data_size = len(test_loader.dataset)\r\n",
        "    test_loss /= data_size\r\n",
        "    accuracy = correct / data_size * 100\r\n",
        "    return test_loss, accuracy"
      ],
      "execution_count": 18,
      "outputs": []
    },
    {
      "cell_type": "code",
      "metadata": {
        "id": "et_0cSekSeEU"
      },
      "source": [
        "# 모델 생성\r\n",
        "alexmodel = AlexNet().to(DEVICE)\r\n",
        "# SGD로 최적화\r\n",
        "# 관성 0.9, 가중치감소 0.00005\r\n",
        "# 학습률은 0.01로 초기화\r\n",
        "optimizer = torch.optim.SGD(alexmodel.parameters(), lr=0.01, momentum=0.9, weight_decay=0.00005)"
      ],
      "execution_count": 15,
      "outputs": []
    },
    {
      "cell_type": "code",
      "metadata": {
        "colab": {
          "base_uri": "https://localhost:8080/"
        },
        "id": "02BMjE_sSnQT",
        "outputId": "97131d2b-d875-4731-82cd-67a199e2fc7c"
      },
      "source": [
        "train(alexmodel, train_loader, optimizer, EPOCHS)"
      ],
      "execution_count": 16,
      "outputs": [
        {
          "output_type": "stream",
          "text": [
            "[0     0] loss : 2.304159\n",
            "[0    60] loss : 2.298541\n",
            "[0   120] loss : 2.279414\n",
            "[0   180] loss : 2.015463\n",
            "[0   240] loss : 1.919107\n",
            "[0   300] loss : 1.850011\n",
            "[0   360] loss : 1.707053\n",
            "[1     0] loss : 1.713838\n",
            "[1    60] loss : 1.563738\n",
            "[1   120] loss : 1.567040\n",
            "[1   180] loss : 1.433649\n",
            "[1   240] loss : 1.456878\n",
            "[1   300] loss : 1.357293\n",
            "[1   360] loss : 1.309605\n",
            "[2     0] loss : 1.563556\n",
            "[2    60] loss : 1.553040\n",
            "[2   120] loss : 1.364538\n",
            "[2   180] loss : 1.381162\n",
            "[2   240] loss : 1.157402\n",
            "[2   300] loss : 1.069121\n",
            "[2   360] loss : 1.167176\n",
            "[3     0] loss : 1.187738\n",
            "[3    60] loss : 1.137152\n",
            "[3   120] loss : 1.097521\n",
            "[3   180] loss : 0.887114\n",
            "[3   240] loss : 1.014183\n",
            "[3   300] loss : 0.918033\n",
            "[3   360] loss : 1.119162\n",
            "[4     0] loss : 0.799336\n",
            "[4    60] loss : 0.771213\n",
            "[4   120] loss : 0.757763\n",
            "[4   180] loss : 0.755970\n",
            "[4   240] loss : 0.729782\n",
            "[4   300] loss : 0.760945\n",
            "[4   360] loss : 0.826804\n",
            "[5     0] loss : 0.920262\n",
            "[5    60] loss : 0.608431\n",
            "[5   120] loss : 0.842229\n",
            "[5   180] loss : 0.810222\n",
            "[5   240] loss : 0.901042\n",
            "[5   300] loss : 0.571141\n",
            "[5   360] loss : 0.514298\n",
            "[6     0] loss : 0.534164\n",
            "[6    60] loss : 0.699501\n",
            "[6   120] loss : 0.728694\n",
            "[6   180] loss : 0.645472\n",
            "[6   240] loss : 0.563665\n",
            "[6   300] loss : 0.722911\n",
            "[6   360] loss : 0.529691\n",
            "[7     0] loss : 0.569068\n",
            "[7    60] loss : 0.547375\n",
            "[7   120] loss : 0.780614\n",
            "[7   180] loss : 0.550738\n",
            "[7   240] loss : 0.562902\n",
            "[7   300] loss : 0.627547\n",
            "[7   360] loss : 0.599781\n",
            "[8     0] loss : 0.543173\n",
            "[8    60] loss : 0.342768\n",
            "[8   120] loss : 0.506220\n",
            "[8   180] loss : 0.547797\n",
            "[8   240] loss : 0.463896\n",
            "[8   300] loss : 0.539410\n",
            "[8   360] loss : 0.516684\n",
            "[9     0] loss : 0.410120\n",
            "[9    60] loss : 0.490970\n",
            "[9   120] loss : 0.467622\n",
            "[9   180] loss : 0.605709\n",
            "[9   240] loss : 0.378377\n",
            "[9   300] loss : 0.415367\n",
            "[9   360] loss : 0.404584\n",
            "[10     0] loss : 0.321039\n",
            "[10    60] loss : 0.366205\n",
            "[10   120] loss : 0.522823\n",
            "[10   180] loss : 0.444882\n",
            "[10   240] loss : 0.433696\n",
            "[10   300] loss : 0.352261\n",
            "[10   360] loss : 0.582300\n",
            "[11     0] loss : 0.381106\n",
            "[11    60] loss : 0.342788\n",
            "[11   120] loss : 0.475421\n",
            "[11   180] loss : 0.289061\n",
            "[11   240] loss : 0.447829\n",
            "[11   300] loss : 0.364717\n",
            "[11   360] loss : 0.420563\n",
            "[12     0] loss : 0.408977\n",
            "[12    60] loss : 0.383195\n",
            "[12   120] loss : 0.365071\n",
            "[12   180] loss : 0.324254\n",
            "[12   240] loss : 0.449722\n",
            "[12   300] loss : 0.266021\n",
            "[12   360] loss : 0.245401\n",
            "[13     0] loss : 0.413983\n",
            "[13    60] loss : 0.343233\n",
            "[13   120] loss : 0.210483\n",
            "[13   180] loss : 0.486770\n",
            "[13   240] loss : 0.291915\n",
            "[13   300] loss : 0.292570\n",
            "[13   360] loss : 0.350930\n",
            "[14     0] loss : 0.310264\n",
            "[14    60] loss : 0.265395\n",
            "[14   120] loss : 0.327863\n",
            "[14   180] loss : 0.273157\n",
            "[14   240] loss : 0.201429\n",
            "[14   300] loss : 0.368856\n",
            "[14   360] loss : 0.245368\n",
            "[15     0] loss : 0.202075\n",
            "[15    60] loss : 0.283719\n",
            "[15   120] loss : 0.281769\n",
            "[15   180] loss : 0.338921\n",
            "[15   240] loss : 0.270441\n",
            "[15   300] loss : 0.254307\n",
            "[15   360] loss : 0.235226\n",
            "[16     0] loss : 0.242100\n",
            "[16    60] loss : 0.187895\n",
            "[16   120] loss : 0.199674\n",
            "[16   180] loss : 0.276537\n",
            "[16   240] loss : 0.168400\n",
            "[16   300] loss : 0.355280\n",
            "[16   360] loss : 0.202258\n",
            "[17     0] loss : 0.261218\n",
            "[17    60] loss : 0.200113\n",
            "[17   120] loss : 0.273323\n",
            "[17   180] loss : 0.248836\n",
            "[17   240] loss : 0.240180\n",
            "[17   300] loss : 0.353090\n",
            "[17   360] loss : 0.279775\n",
            "[18     0] loss : 0.218462\n",
            "[18    60] loss : 0.268970\n",
            "[18   120] loss : 0.279897\n",
            "[18   180] loss : 0.299584\n",
            "[18   240] loss : 0.292913\n",
            "[18   300] loss : 0.236852\n",
            "[18   360] loss : 0.316362\n",
            "[19     0] loss : 0.123092\n",
            "[19    60] loss : 0.225663\n",
            "[19   120] loss : 0.145888\n",
            "[19   180] loss : 0.169999\n",
            "[19   240] loss : 0.174379\n",
            "[19   300] loss : 0.163945\n",
            "[19   360] loss : 0.267351\n",
            "done!\n"
          ],
          "name": "stdout"
        }
      ]
    },
    {
      "cell_type": "code",
      "metadata": {
        "colab": {
          "base_uri": "https://localhost:8080/"
        },
        "id": "kZUdprEm5EmS",
        "outputId": "ec3fd70f-16d8-4c46-ad62-b412f75c2906"
      },
      "source": [
        "test_loss, accuracy = test(alexmodel, test_loader)\r\n",
        "print('Test Loss: %.5f' % (test_loss))\r\n",
        "print('Accuracy: %.2f %%' % (accuracy))"
      ],
      "execution_count": 21,
      "outputs": [
        {
          "output_type": "stream",
          "text": [
            "Test Loss: 0.53512\n",
            "Accuracy: 83.98 %\n"
          ],
          "name": "stdout"
        }
      ]
    }
  ]
}