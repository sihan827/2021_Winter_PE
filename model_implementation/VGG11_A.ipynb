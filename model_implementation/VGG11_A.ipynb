{
  "nbformat": 4,
  "nbformat_minor": 0,
  "metadata": {
    "colab": {
      "name": "VGG11_A.ipynb",
      "provenance": [],
      "collapsed_sections": [],
      "include_colab_link": true
    },
    "kernelspec": {
      "name": "python3",
      "display_name": "Python 3"
    },
    "accelerator": "GPU"
  },
  "cells": [
    {
      "cell_type": "markdown",
      "metadata": {
        "id": "view-in-github",
        "colab_type": "text"
      },
      "source": [
        "<a href=\"https://colab.research.google.com/github/sihan827/2021_Winter_PE/blob/main/model_implementation/VGG11_A.ipynb\" target=\"_parent\"><img src=\"https://colab.research.google.com/assets/colab-badge.svg\" alt=\"Open In Colab\"/></a>"
      ]
    },
    {
      "cell_type": "code",
      "metadata": {
        "id": "LFgeL3EbWbyZ",
        "colab": {
          "base_uri": "https://localhost:8080/"
        },
        "outputId": "5f13e6c6-8a22-4645-e840-8ec0e6b2a2ff"
      },
      "source": [
        "\\from google.colab import drive\r\n",
        "drive.mount('/gdrive', force_remount=True)"
      ],
      "execution_count": null,
      "outputs": [
        {
          "output_type": "stream",
          "text": [
            "Mounted at /gdrive\n"
          ],
          "name": "stdout"
        }
      ]
    },
    {
      "cell_type": "markdown",
      "metadata": {
        "id": "ePtOS-KwfIMI"
      },
      "source": [
        "# 데이터의 경로 설정\r\n",
        "\r\n",
        "### 데이터 경로를 공유 폴더로 현재 설정되어 있음\r\n",
        "\r\n",
        "### Cifar 10 데이터 사용\r\n"
      ]
    },
    {
      "cell_type": "code",
      "metadata": {
        "id": "5LC8p6Q7ZDAH"
      },
      "source": [
        "# Setting Data Path\r\n",
        "data_path = '/gdrive/My Drive/.data'"
      ],
      "execution_count": null,
      "outputs": []
    },
    {
      "cell_type": "markdown",
      "metadata": {
        "id": "8_ypq0Cnf31y"
      },
      "source": [
        "# 중요 Package Import Cell\r\n",
        "\r\n",
        "### Package는 여기서 관리"
      ]
    },
    {
      "cell_type": "code",
      "metadata": {
        "id": "OUkY3s3teydE"
      },
      "source": [
        "# Package Import Cell\r\n",
        "import numpy as np\r\n",
        "import matplotlib.pyplot as plt\r\n",
        "import torch\r\n",
        "from torchvision import utils\r\n",
        "import torchvision.datasets as datasets\r\n",
        "import torchvision.transforms as transforms\r\n",
        "from torch.utils.data.sampler import SubsetRandomSampler\r\n",
        "import os\r\n",
        "import torch.nn as nn\r\n",
        "import torch.nn.functional as F"
      ],
      "execution_count": null,
      "outputs": []
    },
    {
      "cell_type": "markdown",
      "metadata": {
        "id": "wof92qrEm0kH"
      },
      "source": [
        "# Util Code"
      ]
    },
    {
      "cell_type": "code",
      "metadata": {
        "id": "WCaK5FP5muDD"
      },
      "source": [
        "class AverageMeter(object):\r\n",
        "    def __init__(self, name=''):\r\n",
        "        self._name = name\r\n",
        "        self.avg = 0.0\r\n",
        "        self.sum = 0.0\r\n",
        "        self.cnt = 0.0\r\n",
        "\r\n",
        "    def reset(self):\r\n",
        "        self.avg = 0.0\r\n",
        "        self.sum = 0.0\r\n",
        "        self.cnt = 0.0\r\n",
        "\r\n",
        "    def update(self, val, n=1):\r\n",
        "        self.sum += val * n\r\n",
        "        self.cnt += n\r\n",
        "        self.avg = self.sum / self.cnt\r\n",
        "\r\n",
        "    def __str__(self):\r\n",
        "        return \"%s: %.5f\" % (self._name, self.avg)\r\n",
        "\r\n",
        "    def get_avg(self):\r\n",
        "        return self.avg\r\n",
        "\r\n",
        "    def __repr__(self):\r\n",
        "        return self.__str__()\r\n",
        "\r\n",
        "def accuracy(output, target, topk=(1,)):\r\n",
        "    \"\"\" Computes the precision@k for the specified values of k \"\"\"\r\n",
        "    maxk = max(topk)\r\n",
        "    batch_size = target.size(0)\r\n",
        "\r\n",
        "    _, pred = output.topk(maxk, 1, True, True)\r\n",
        "    pred = pred.t()\r\n",
        "    # one-hot case\r\n",
        "    if target.ndimension() > 1:\r\n",
        "        target = target.max(1)[1]\r\n",
        "\r\n",
        "    correct = pred.eq(target.view(1, -1).expand_as(pred))\r\n",
        "\r\n",
        "    res = []\r\n",
        "    for k in topk:\r\n",
        "        correct_k = torch.reshape(correct[:k], (-1,)).float().sum(0)\r\n",
        "        res.append(correct_k.mul_(1.0 / batch_size))\r\n",
        "\r\n",
        "    return res"
      ],
      "execution_count": null,
      "outputs": []
    },
    {
      "cell_type": "markdown",
      "metadata": {
        "id": "7nJEA6fMgGQw"
      },
      "source": [
        "# 데이터 로딩"
      ]
    },
    {
      "cell_type": "code",
      "metadata": {
        "id": "BBVvIgf8d8bk"
      },
      "source": [
        "CIFAR_MEAN = [0.49139968, 0.48215827, 0.44653124]\r\n",
        "CIFAR_STD = [0.2023, 0.1994, 0.2010]\r\n",
        "\r\n",
        "def get_loaders(train_portion, batch_size, path_to_save_data):\r\n",
        "    train_transform = transforms.Compose([\r\n",
        "        transforms.Resize(256),\r\n",
        "        transforms.RandomCrop(224),\r\n",
        "        transforms.RandomHorizontalFlip(),\r\n",
        "        transforms.ToTensor(),\r\n",
        "        transforms.Normalize(CIFAR_MEAN, CIFAR_STD),\r\n",
        "    ])\r\n",
        "    train_data = datasets.CIFAR10(root=path_to_save_data, train=True,\r\n",
        "                                  download=True, transform=train_transform)\r\n",
        "\r\n",
        "    num_train = len(train_data)  \r\n",
        "    indices = np.arange(num_train)\r\n",
        "    np.random.shuffle(indices)\r\n",
        "    split = int(np.floor(train_portion * num_train))\r\n",
        "\r\n",
        "    train_idx, valid_idx = indices[:split], indices[split:]\r\n",
        "\r\n",
        "    train_sampler = SubsetRandomSampler(train_idx)\r\n",
        "\r\n",
        "    train_loader = torch.utils.data.DataLoader(\r\n",
        "        train_data, batch_size=batch_size, sampler=train_sampler, num_workers=2)\r\n",
        "\r\n",
        "    if train_portion == 1:\r\n",
        "        return train_loader\r\n",
        "\r\n",
        "    valid_sampler = SubsetRandomSampler(valid_idx)\r\n",
        "\r\n",
        "    val_loader = torch.utils.data.DataLoader(\r\n",
        "        train_data, batch_size=batch_size, sampler=valid_sampler, num_workers=2)\r\n",
        "\r\n",
        "    return train_loader, val_loader\r\n",
        "\r\n",
        "\r\n",
        "def get_test_loader(batch_size, path_to_save_data):\r\n",
        "    test_transform = transforms.Compose([\r\n",
        "        transforms.Resize(256),\r\n",
        "        transforms.CenterCrop(224),\r\n",
        "        transforms.ToTensor(),\r\n",
        "        transforms.Normalize(CIFAR_MEAN, CIFAR_STD),\r\n",
        "    ])\r\n",
        "\r\n",
        "    test_data = datasets.CIFAR10(root=path_to_save_data, train=False,\r\n",
        "                                 download=True, transform=test_transform)\r\n",
        "    test_loader = torch.utils.data.DataLoader(test_data, batch_size=batch_size,\r\n",
        "                                              shuffle=False, num_workers=16)\r\n",
        "    return test_loader"
      ],
      "execution_count": null,
      "outputs": []
    },
    {
      "cell_type": "markdown",
      "metadata": {
        "id": "OHdBowiV15GD"
      },
      "source": [
        "# Input Data 훑어보기"
      ]
    },
    {
      "cell_type": "code",
      "metadata": {
        "colab": {
          "base_uri": "https://localhost:8080/"
        },
        "id": "n-jE1-pg1mDk",
        "outputId": "d3bf006d-c605-423d-ef8d-068ba70e4a26"
      },
      "source": [
        "train_loader = get_test_loader(batch_size=8, path_to_save_data=data_path)\n",
        "iterator = iter(train_loader)\n",
        "images, labels = iterator.next()"
      ],
      "execution_count": null,
      "outputs": [
        {
          "output_type": "stream",
          "text": [
            "Files already downloaded and verified\n"
          ],
          "name": "stdout"
        }
      ]
    },
    {
      "cell_type": "code",
      "metadata": {
        "id": "LZ2xwMfTLSJL"
      },
      "source": [
        "classes = {\n",
        "    0: 'plane', \n",
        "    1: 'car', \n",
        "    2: 'bird', \n",
        "    3: 'cat',\n",
        "    4: 'deer', \n",
        "    5: 'dog', \n",
        "    6: 'frog', \n",
        "    7: 'horse', \n",
        "    8: 'ship', \n",
        "    9: 'truck'\n",
        "}"
      ],
      "execution_count": null,
      "outputs": []
    },
    {
      "cell_type": "code",
      "metadata": {
        "colab": {
          "base_uri": "https://localhost:8080/",
          "height": 112
        },
        "id": "PQyiYU-g2SSR",
        "outputId": "43f33326-c10c-423b-f313-71137fecc912"
      },
      "source": [
        "img = utils.make_grid(images, padding=0)\n",
        "img.shape\n",
        "npimg = img.numpy()\n",
        "plt.imshow(np.transpose(npimg, (1, 2, 0)))\n",
        "plt.show()"
      ],
      "execution_count": null,
      "outputs": [
        {
          "output_type": "stream",
          "text": [
            "Clipping input data to the valid range for imshow with RGB data ([0..1] for floats or [0..255] for integers).\n"
          ],
          "name": "stderr"
        },
        {
          "output_type": "display_data",
          "data": {
            "image/png": "[encoded data removed]",
            "text/plain": [
              "<Figure size 432x288 with 1 Axes>"
            ]
          },
          "metadata": {
            "tags": [],
            "needs_background": "light"
          }
        }
      ]
    },
    {
      "cell_type": "code",
      "metadata": {
        "colab": {
          "base_uri": "https://localhost:8080/"
        },
        "id": "vSIQ8m_CL3fL",
        "outputId": "6502cd47-467c-4f24-cae8-965be82b78d4"
      },
      "source": [
        "for idx in range(len(labels)):\n",
        "  print(classes[labels[idx].item()])"
      ],
      "execution_count": null,
      "outputs": [
        {
          "output_type": "stream",
          "text": [
            "cat\n",
            "ship\n",
            "ship\n",
            "plane\n",
            "frog\n",
            "frog\n",
            "car\n",
            "frog\n"
          ],
          "name": "stdout"
        }
      ]
    },
    {
      "cell_type": "markdown",
      "metadata": {
        "id": "XWpb4TGtgU0N"
      },
      "source": [
        "# Model 설계"
      ]
    },
    {
      "cell_type": "code",
      "metadata": {
        "id": "ZnH2Hz_cedeq"
      },
      "source": [
        "# VGGNet 중 논문에서의 형태 A\r\n",
        "class VGG16_D(nn.Module):\r\n",
        "    def __init__(self, classes=10):\r\n",
        "        super(VGG16_D, self).__init__()\r\n",
        "        self.classes = classes\r\n",
        "\r\n",
        "        # 합성곱층 8개 + 최대풀링층 5개\r\n",
        "        self.conv = nn.Sequential(\r\n",
        "            nn.Conv2d(3, 64, kernel_size=3, padding=1),\r\n",
        "            nn.ReLU(),\r\n",
        "            nn.MaxPool2d(kernel_size=2, stride=2),\r\n",
        "            nn.Conv2d(64, 128, kernel_size=3, padding=1),\r\n",
        "            nn.ReLU(),\r\n",
        "            nn.MaxPool2d(kernel_size=2, stride=2),\r\n",
        "            nn.Conv2d(128, 256, kernel_size=3, padding=1),\r\n",
        "            nn.ReLU(),\r\n",
        "            nn.Conv2d(256, 256, kernel_size=3, padding=1),\r\n",
        "            nn.ReLU(),\r\n",
        "            nn.MaxPool2d(kernel_size=2, stride=2),\r\n",
        "            nn.Conv2d(256, 512, kernel_size=3, padding=1),\r\n",
        "            nn.ReLU(),\r\n",
        "            nn.Conv2d(512, 512, kernel_size=3, padding=1),\r\n",
        "            nn.ReLU(),\r\n",
        "            nn.MaxPool2d(kernel_size=2, stride=2),\r\n",
        "            nn.Conv2d(512, 512, kernel_size=3, padding=1),\r\n",
        "            nn.ReLU(),\r\n",
        "            nn.Conv2d(512, 512, kernel_size=3, padding=1),\r\n",
        "            nn.ReLU(),\r\n",
        "            nn.MaxPool2d(kernel_size=2, stride=2)\r\n",
        "        )\r\n",
        "\r\n",
        "        # 완전연결층 3개 + 드롭아웃층 2개\r\n",
        "        self.fc = nn.Sequential(\r\n",
        "            nn.Linear(25088, 4096),\r\n",
        "            nn.ReLU(),\r\n",
        "            nn.Dropout(),\r\n",
        "            nn.Linear(4096, 4096),\r\n",
        "            nn.ReLU(),\r\n",
        "            nn.Dropout(),\r\n",
        "            nn.Linear(4096, self.classes)\r\n",
        "        )\r\n",
        "\r\n",
        "    def forward(self, x):       \r\n",
        "        out = self.conv(x)\r\n",
        "        out = out.view(-1, 25088)       \r\n",
        "        out = self.fc(out)\r\n",
        "\r\n",
        "        return out\r\n"
      ],
      "execution_count": null,
      "outputs": []
    },
    {
      "cell_type": "markdown",
      "metadata": {
        "id": "zjF4ucmLjU7l"
      },
      "source": [
        "# Training Design"
      ]
    },
    {
      "cell_type": "code",
      "metadata": {
        "id": "lWv39lksjkIK"
      },
      "source": [
        "# Training Settings\r\n",
        "\r\n",
        "train_valid_portion = 0.8\r\n",
        "batch_size = 100\r\n",
        "epoch = 20\r\n",
        "learning_rate = 0.01\r\n",
        "\r\n",
        "USE_CUDA = torch.cuda.is_available()\r\n",
        "DEVICE = 'cuda' if USE_CUDA else 'cpu'\r\n",
        "\r\n",
        "criterion = nn.CrossEntropyLoss()\r\n",
        "model = VGG16_D().to(DEVICE)\r\n",
        "optimizer = torch.optim.SGD(model.parameters(), momentum=0.9, lr=learning_rate)\r\n",
        "\r\n"
      ],
      "execution_count": null,
      "outputs": []
    },
    {
      "cell_type": "code",
      "metadata": {
        "id": "glRNxeGsgd1p"
      },
      "source": [
        "top1_meter = AverageMeter()\r\n",
        "top5_meter = AverageMeter()\r\n",
        "loss_meter = AverageMeter()\r\n",
        "\r\n",
        "def test(loader):\r\n",
        "    model.eval()\r\n",
        "    with torch.no_grad():\r\n",
        "        for step, (X, y) in enumerate(loader):\r\n",
        "            X, y = X.to(DEVICE), y.to(DEVICE)\r\n",
        "            N = X.shape[0]\r\n",
        "\r\n",
        "            outs = model(X)\r\n",
        "            loss = criterion(outs, y)\r\n",
        "            prec1, prec3 = accuracy(outs, y, topk=(1,5))\r\n",
        "            top1_meter.update(prec1.item(), N)\r\n",
        "            top5_meter.update(prec3.item(), N)\r\n",
        "            loss_meter.update(loss.item(), N)\r\n",
        "\r\n",
        "    top1_avg = top1_meter.get_avg()\r\n",
        "    top5_avg = top5_meter.get_avg()\r\n",
        "    loss_avg = loss_meter.get_avg()\r\n",
        "\r\n",
        "    for avg in [top1_meter, top5_meter, loss_meter]:\r\n",
        "        avg.reset()\r\n",
        "\r\n",
        "    print('[Test] Loss: {loss:.4f}, Top1: {top1: .4f}, Top5: {top5: .4f}'.format(\r\n",
        "        loss=loss_avg,\r\n",
        "        top1=top1_avg,\r\n",
        "        top5=top5_avg\r\n",
        "    ))\r\n",
        "\r\n",
        "def train():\r\n",
        "    train_loader, valid_loader = get_loaders(train_valid_portion, batch_size, data_path)\r\n",
        "    test_loader = get_test_loader(batch_size, data_path)\r\n",
        "\r\n",
        "    \r\n",
        "\r\n",
        "    for iter in range(epoch):\r\n",
        "        model.train()\r\n",
        "\r\n",
        "        for step, (X, y) in enumerate(train_loader):\r\n",
        "            X, y = X.to(DEVICE), y.to(DEVICE)\r\n",
        "            N = X.shape[0]\r\n",
        "\r\n",
        "            optimizer.zero_grad()\r\n",
        "            outs = model(X)\r\n",
        "            \r\n",
        "            loss = criterion(outs, y)\r\n",
        "            loss.backward()\r\n",
        "            optimizer.step()\r\n",
        "\r\n",
        "            prec1, prec3 = accuracy(outs, y, topk=(1,5))\r\n",
        "            top1_meter.update(prec1.item(), N)\r\n",
        "            top5_meter.update(prec3.item(), N)\r\n",
        "            loss_meter.update(loss.item(), N)\r\n",
        "\r\n",
        "            if step % 100 == 0:\r\n",
        "                print('[%d %5d] loss : %f' % (iter, step, loss.item()))\r\n",
        "        \r\n",
        "        top1_avg = top1_meter.get_avg()\r\n",
        "        top5_avg = top5_meter.get_avg()\r\n",
        "        loss_avg = loss_meter.get_avg()\r\n",
        "\r\n",
        "        for avg in [top1_meter, top5_meter, loss_meter]:\r\n",
        "            avg.reset()\r\n",
        "\r\n",
        "        print('Epoch[{cur_epoch}/{max_epoch}] [Train] Loss: {loss:.4f}, Top1: {top1: .4f}, Top5: {top5: .4f}'.format(\r\n",
        "            cur_epoch=iter,\r\n",
        "            max_epoch=epoch,\r\n",
        "            loss=loss_avg,\r\n",
        "            top1=top1_avg,\r\n",
        "            top5=top5_avg\r\n",
        "        ))\r\n",
        "\r\n",
        "        test(valid_loader)"
      ],
      "execution_count": null,
      "outputs": []
    },
    {
      "cell_type": "code",
      "metadata": {
        "id": "c7OoS7MLlmQo",
        "colab": {
          "base_uri": "https://localhost:8080/"
        },
        "outputId": "8d6d7693-139e-4da6-ccfb-96ff7d4486d3"
      },
      "source": [
        "train()"
      ],
      "execution_count": null,
      "outputs": [
        {
          "output_type": "stream",
          "text": [
            "Files already downloaded and verified\n",
            "Files already downloaded and verified\n",
            "[0     0] loss : 2.301971\n",
            "[0   100] loss : 2.303138\n",
            "[0   200] loss : 2.302453\n",
            "[0   300] loss : 2.299103\n",
            "Epoch[0/20] [Train] Loss: 2.3029, Top1:  0.0980, Top5:  0.4961\n",
            "[Test] Loss: 2.3023, Top1:  0.0978, Top5:  0.5078\n",
            "[1     0] loss : 2.303144\n",
            "[1   100] loss : 2.298457\n",
            "[1   200] loss : 2.151384\n",
            "[1   300] loss : 2.108296\n",
            "Epoch[1/20] [Train] Loss: 2.1353, Top1:  0.1995, Top5:  0.6909\n",
            "[Test] Loss: 1.9351, Top1:  0.2874, Top5:  0.8243\n",
            "[2     0] loss : 1.971445\n",
            "[2   100] loss : 1.817503\n",
            "[2   200] loss : 1.683103\n",
            "[2   300] loss : 1.752338\n",
            "Epoch[2/20] [Train] Loss: 1.7465, Top1:  0.3542, Top5:  0.8690\n",
            "[Test] Loss: 1.5727, Top1:  0.4306, Top5:  0.9076\n",
            "[3     0] loss : 1.545711\n",
            "[3   100] loss : 1.658950\n",
            "[3   200] loss : 1.464646\n",
            "[3   300] loss : 1.688144\n",
            "Epoch[3/20] [Train] Loss: 1.5112, Top1:  0.4495, Top5:  0.9141\n",
            "[Test] Loss: 1.3792, Top1:  0.5021, Top5:  0.9353\n",
            "[4     0] loss : 1.455806\n",
            "[4   100] loss : 1.556273\n",
            "[4   200] loss : 1.142805\n",
            "[4   300] loss : 1.459069\n",
            "Epoch[4/20] [Train] Loss: 1.3169, Top1:  0.5243, Top5:  0.9400\n",
            "[Test] Loss: 1.1616, Top1:  0.5918, Top5:  0.9545\n",
            "[5     0] loss : 1.246211\n",
            "[5   100] loss : 1.062881\n",
            "[5   200] loss : 1.074101\n",
            "[5   300] loss : 1.124897\n",
            "Epoch[5/20] [Train] Loss: 1.1408, Top1:  0.5955, Top5:  0.9575\n",
            "[Test] Loss: 1.0585, Top1:  0.6277, Top5:  0.9627\n",
            "[6     0] loss : 1.056573\n",
            "[6   100] loss : 0.905746\n",
            "[6   200] loss : 1.101959\n",
            "[6   300] loss : 0.864660\n",
            "Epoch[6/20] [Train] Loss: 1.0062, Top1:  0.6486, Top5:  0.9683\n",
            "[Test] Loss: 0.9565, Top1:  0.6598, Top5:  0.9718\n",
            "[7     0] loss : 0.920202\n",
            "[7   100] loss : 1.089821\n",
            "[7   200] loss : 1.043818\n",
            "[7   300] loss : 0.795861\n",
            "Epoch[7/20] [Train] Loss: 0.8835, Top1:  0.6939, Top5:  0.9751\n",
            "[Test] Loss: 0.8355, Top1:  0.7104, Top5:  0.9758\n",
            "[8     0] loss : 0.760613\n",
            "[8   100] loss : 0.880340\n",
            "[8   200] loss : 0.799173\n",
            "[8   300] loss : 0.780217\n",
            "Epoch[8/20] [Train] Loss: 0.7811, Top1:  0.7289, Top5:  0.9801\n",
            "[Test] Loss: 0.7564, Top1:  0.7393, Top5:  0.9800\n",
            "[9     0] loss : 0.588562\n",
            "[9   100] loss : 0.600883\n",
            "[9   200] loss : 0.581914\n",
            "[9   300] loss : 0.609043\n",
            "Epoch[9/20] [Train] Loss: 0.6830, Top1:  0.7627, Top5:  0.9855\n",
            "[Test] Loss: 0.6825, Top1:  0.7624, Top5:  0.9874\n",
            "[10     0] loss : 0.532958\n",
            "[10   100] loss : 0.605943\n",
            "[10   200] loss : 0.581704\n",
            "[10   300] loss : 0.578728\n",
            "Epoch[10/20] [Train] Loss: 0.6203, Top1:  0.7857, Top5:  0.9872\n",
            "[Test] Loss: 0.6666, Top1:  0.7713, Top5:  0.9859\n",
            "[11     0] loss : 0.594379\n",
            "[11   100] loss : 0.839451\n",
            "[11   200] loss : 0.559283\n",
            "[11   300] loss : 0.435404\n",
            "Epoch[11/20] [Train] Loss: 0.5572, Top1:  0.8090, Top5:  0.9900\n",
            "[Test] Loss: 0.5975, Top1:  0.7959, Top5:  0.9875\n",
            "[12     0] loss : 0.419060\n",
            "[12   100] loss : 0.611210\n",
            "[12   200] loss : 0.528932\n",
            "[12   300] loss : 0.778923\n",
            "Epoch[12/20] [Train] Loss: 0.5027, Top1:  0.8274, Top5:  0.9920\n",
            "[Test] Loss: 0.5918, Top1:  0.7991, Top5:  0.9899\n",
            "[13     0] loss : 0.444751\n",
            "[13   100] loss : 0.427334\n",
            "[13   200] loss : 0.258056\n",
            "[13   300] loss : 0.515663\n",
            "Epoch[13/20] [Train] Loss: 0.4498, Top1:  0.8449, Top5:  0.9936\n",
            "[Test] Loss: 0.5921, Top1:  0.8002, Top5:  0.9882\n",
            "[14     0] loss : 0.599377\n",
            "[14   100] loss : 0.471272\n",
            "[14   200] loss : 0.458209\n",
            "[14   300] loss : 0.289927\n",
            "Epoch[14/20] [Train] Loss: 0.4181, Top1:  0.8556, Top5:  0.9946\n",
            "[Test] Loss: 0.5663, Top1:  0.8115, Top5:  0.9888\n",
            "[15     0] loss : 0.371214\n",
            "[15   100] loss : 0.468629\n",
            "[15   200] loss : 0.370858\n",
            "[15   300] loss : 0.402520\n",
            "Epoch[15/20] [Train] Loss: 0.3753, Top1:  0.8712, Top5:  0.9954\n",
            "[Test] Loss: 0.5146, Top1:  0.8306, Top5:  0.9917\n",
            "[16     0] loss : 0.294959\n",
            "[16   100] loss : 0.298933\n",
            "[16   200] loss : 0.331585\n",
            "[16   300] loss : 0.381763\n",
            "Epoch[16/20] [Train] Loss: 0.3431, Top1:  0.8835, Top5:  0.9968\n",
            "[Test] Loss: 0.5330, Top1:  0.8247, Top5:  0.9909\n",
            "[17     0] loss : 0.277102\n",
            "[17   100] loss : 0.223923\n",
            "[17   200] loss : 0.150435\n",
            "[17   300] loss : 0.356545\n",
            "Epoch[17/20] [Train] Loss: 0.3079, Top1:  0.8944, Top5:  0.9970\n",
            "[Test] Loss: 0.5505, Top1:  0.8245, Top5:  0.9926\n",
            "[18     0] loss : 0.344856\n",
            "[18   100] loss : 0.190339\n",
            "[18   200] loss : 0.304174\n",
            "[18   300] loss : 0.226293\n",
            "Epoch[18/20] [Train] Loss: 0.2805, Top1:  0.9049, Top5:  0.9980\n",
            "[Test] Loss: 0.5534, Top1:  0.8310, Top5:  0.9904\n",
            "[19     0] loss : 0.320904\n",
            "[19   100] loss : 0.309921\n",
            "[19   200] loss : 0.187803\n",
            "[19   300] loss : 0.195324\n",
            "Epoch[19/20] [Train] Loss: 0.2615, Top1:  0.9103, Top5:  0.9984\n",
            "[Test] Loss: 0.5064, Top1:  0.8448, Top5:  0.9921\n"
          ],
          "name": "stdout"
        }
      ]
    },
    {
      "cell_type": "code",
      "metadata": {
        "id": "SRrGcKE5sltK"
      },
      "source": [
        ""
      ],
      "execution_count": null,
      "outputs": []
    }
  ]
}