{
  "nbformat": 4,
  "nbformat_minor": 0,
  "metadata": {
    "colab": {
      "name": "MNIST.ipynb",
      "provenance": [],
      "authorship_tag": "ABX9TyOtUzePGT73Fn72hk1/jZzG",
      "include_colab_link": true
    },
    "kernelspec": {
      "name": "python3",
      "display_name": "Python 3"
    }
  },
  "cells": [
    {
      "cell_type": "markdown",
      "metadata": {
        "id": "view-in-github",
        "colab_type": "text"
      },
      "source": [
        "<a href=\"https://colab.research.google.com/github/sihan827/2021_Winter_PE/blob/main/MNIST.ipynb\" target=\"_parent\"><img src=\"https://colab.research.google.com/assets/colab-badge.svg\" alt=\"Open In Colab\"/></a>"
      ]
    },
    {
      "cell_type": "code",
      "metadata": {
        "colab": {
          "base_uri": "https://localhost:8080/"
        },
        "id": "VcYs1QhoC59j",
        "outputId": "6f86769a-a692-4213-e69e-48681c0a5c34"
      },
      "source": [
        "from google.colab import drive\r\n",
        "drive.mount('/content/drive')"
      ],
      "execution_count": null,
      "outputs": [
        {
          "output_type": "stream",
          "text": [
            "Mounted at /content/drive\n"
          ],
          "name": "stdout"
        }
      ]
    },
    {
      "cell_type": "code",
      "metadata": {
        "id": "JTqmA2G5EIj-"
      },
      "source": [
        "from torchvision import datasets, utils, transforms\r\n",
        "from torch.utils import data\r\n",
        "import matplotlib.pyplot as plt\r\n",
        "import numpy as np\r\n"
      ],
      "execution_count": null,
      "outputs": []
    },
    {
      "cell_type": "code",
      "metadata": {
        "id": "EvR2Ojw1EXv1"
      },
      "source": [
        "batch_size = 20\r\n",
        "train_loader = data.DataLoader(\r\n",
        "    datasets.MNIST('/content/drive/My Drive/.data',\r\n",
        "                   train=True,\r\n",
        "                   transform=transforms.Compose([\r\n",
        "                      transforms.ToTensor(),\r\n",
        "                      transforms.Normalize((0.1307,), (0.3081,))\r\n",
        "                   ]),\r\n",
        "                   download=True),\r\n",
        "    batch_size=batch_size\r\n",
        ")\r\n",
        "\r\n",
        "test_loader = data.DataLoader(\r\n",
        "    datasets.MNIST('/content/drive/My Drive/.data',\r\n",
        "                   train=False,\r\n",
        "                   transform=transforms.Compose([\r\n",
        "                      transforms.ToTensor(),\r\n",
        "                      transforms.Normalize((0.1307,), (0.3081,))\r\n",
        "                   ]),\r\n",
        "                   download=True),\r\n",
        "    batch_size=batch_size\r\n",
        ")\r\n"
      ],
      "execution_count": null,
      "outputs": []
    },
    {
      "cell_type": "code",
      "metadata": {
        "id": "BIcn7ib9F7TT"
      },
      "source": [
        "iterator = iter(train_loader)\r\n",
        "images, labels = iterator.next()\r\n"
      ],
      "execution_count": null,
      "outputs": []
    },
    {
      "cell_type": "code",
      "metadata": {
        "colab": {
          "base_uri": "https://localhost:8080/",
          "height": 382
        },
        "id": "LkOV17wtK26T",
        "outputId": "c80cc792-b075-41a0-92d2-1a0d3a30cd29"
      },
      "source": [
        "img = utils.make_grid(images, padding=0)\r\n",
        "img.size()\r\n",
        "npimg = img.numpy()\r\n",
        "plt.figure(figsize=(15, 7))\r\n",
        "plt.imshow(np.transpose(npimg, (1, 2, 0)))\r\n",
        "plt.show()"
      ],
      "execution_count": null,
      "outputs": [
        {
          "output_type": "stream",
          "text": [
            "Clipping input data to the valid range for imshow with RGB data ([0..1] for floats or [0..255] for integers).\n"
          ],
          "name": "stderr"
        },
        {
          "output_type": "display_data",
          "data": {
            "image/png": "[encoded data removed]",
            "text/plain": [
              "<Figure size 1080x504 with 1 Axes>"
            ]
          },
          "metadata": {
            "tags": [],
            "needs_background": "light"
          }
        }
      ]
    },
    {
      "cell_type": "code",
      "metadata": {
        "colab": {
          "base_uri": "https://localhost:8080/"
        },
        "id": "7GoMfbGLLubr",
        "outputId": "5e68e709-6ceb-4605-a2e0-f3c0da9f5858"
      },
      "source": [
        "labels"
      ],
      "execution_count": null,
      "outputs": [
        {
          "output_type": "execute_result",
          "data": {
            "text/plain": [
              "tensor([5, 0, 4, 1, 9, 2, 1, 3, 1, 4, 3, 5, 3, 6, 1, 7, 2, 8, 6, 9])"
            ]
          },
          "metadata": {
            "tags": []
          },
          "execution_count": 12
        }
      ]
    },
    {
      "cell_type": "code",
      "metadata": {
        "colab": {
          "base_uri": "https://localhost:8080/",
          "height": 281
        },
        "id": "Db6180WpL0cS",
        "outputId": "d3e8bb9c-92c7-4dab-a52d-7c38e59870cb"
      },
      "source": [
        "item_img = images[1]\r\n",
        "item_img.size()\r\n",
        "item_npimg = item_img.squeeze().numpy()\r\n",
        "item_npimg.shape\r\n",
        "plt.title(labels[1].item())\r\n",
        "plt.imshow(item_npimg, cmap='gray')\r\n",
        "plt.show()"
      ],
      "execution_count": null,
      "outputs": [
        {
          "output_type": "display_data",
          "data": {
            "image/png": "[encoded data removed]",
            "text/plain": [
              "<Figure size 432x288 with 1 Axes>"
            ]
          },
          "metadata": {
            "tags": [],
            "needs_background": "light"
          }
        }
      ]
    }
  ]
}